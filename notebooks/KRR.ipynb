{
 "cells": [
  {
   "cell_type": "markdown",
   "metadata": {},
   "source": [
    "### Kernel Regressions"
   ]
  },
  {
   "cell_type": "code",
   "execution_count": 1,
   "metadata": {
    "collapsed": false
   },
   "outputs": [
    {
     "name": "stdout",
     "output_type": "stream",
     "text": [
      "False\n",
      "(5822, 85) (5822,)\n"
     ]
    }
   ],
   "source": [
    "import numpy as np\n",
    "\n",
    "\n",
    "def SplitTrainData(trainData):\n",
    "        return (trainData[:,:-1], trainData[:, (trainData.shape[1] - 1)])\n",
    "\n",
    "csv = np.genfromtxt('ticdata2000.csv', delimiter=\",\")\n",
    "print np.any(np.isnan(csv))\n",
    "\n",
    "\n",
    "x, y = SplitTrainData(csv)\n",
    "print x.shape, y.shape\n",
    "d1=x.shape"
   ]
  },
  {
   "cell_type": "code",
   "execution_count": 2,
   "metadata": {
    "collapsed": false
   },
   "outputs": [
    {
     "name": "stdout",
     "output_type": "stream",
     "text": [
      "43.0317721367\n"
     ]
    }
   ],
   "source": [
    "from modshogun import *\n",
    "from numpy import *\n",
    "from time import time\n",
    "from sklearn.kernel_ridge import KernelRidge\n",
    "\n",
    "t0 = time()\n",
    "skr = KernelRidge(kernel='rbf', gamma=0.1)\n",
    "skr.fit(x, y)\n",
    "ts1 = time() - t0\n",
    "print ts1"
   ]
  },
  {
   "cell_type": "code",
   "execution_count": 3,
   "metadata": {
    "collapsed": false
   },
   "outputs": [
    {
     "name": "stdout",
     "output_type": "stream",
     "text": [
      "3.37189102173\n"
     ]
    }
   ],
   "source": [
    "train_features = RealFeatures(x.T)\n",
    "labels_train = RegressionLabels(y)\n",
    "\n",
    "\n",
    "width = 0.1\n",
    "kernel = GaussianKernel(train_features, train_features, width)\n",
    "tau = 1\n",
    "\n",
    "t0=time()\n",
    "krr = KernelRidgeRegression(tau, kernel, labels_train)\n",
    "krr.train()\n",
    "tsg1=time()-t0\n",
    "\n",
    "print tsg1"
   ]
  },
  {
   "cell_type": "code",
   "execution_count": null,
   "metadata": {
    "collapsed": true
   },
   "outputs": [],
   "source": []
  },
  {
   "cell_type": "code",
   "execution_count": 4,
   "metadata": {
    "collapsed": false
   },
   "outputs": [
    {
     "name": "stdout",
     "output_type": "stream",
     "text": [
      "False\n",
      "(28179, 96) (28179,)\n"
     ]
    }
   ],
   "source": [
    "\n",
    "csv = np.genfromtxt('TomsHardware.csv', delimiter=\",\")\n",
    "print np.any(np.isnan(csv))\n",
    "\n",
    "\n",
    "x, y = SplitTrainData(csv)\n",
    "print x.shape, y.shape\n",
    "d2=x.shape"
   ]
  },
  {
   "cell_type": "code",
   "execution_count": 5,
   "metadata": {
    "collapsed": false
   },
   "outputs": [
    {
     "name": "stdout",
     "output_type": "stream",
     "text": [
      "141.753978014\n"
     ]
    }
   ],
   "source": [
    "from sklearn.svm import SVR\n",
    "svr = SVR(kernel='rbf', gamma=0.1, epsilon=1)\n",
    "t0 = time()\n",
    "svr.fit(x, y)\n",
    "ts2 = time() - t0\n",
    "print ts2"
   ]
  },
  {
   "cell_type": "code",
   "execution_count": 6,
   "metadata": {
    "collapsed": false
   },
   "outputs": [
    {
     "name": "stdout",
     "output_type": "stream",
     "text": [
      "136.193249941\n"
     ]
    }
   ],
   "source": [
    "train_features = RealFeatures(x.T)\n",
    "labels_train = RegressionLabels(y)\n",
    "\n",
    "width = 0.1\n",
    "kernel = GaussianKernel(train_features, train_features, width)\n",
    "svr_param=1\n",
    "svr_C=10\n",
    "svr=LibSVR(svr_C, svr_param, kernel, labels_train, LIBSVR_EPSILON_SVR)\n",
    "\n",
    "t0=time()\n",
    "svr.train()\n",
    "tsg2=time()-t0\n",
    "\n",
    "print tsg2"
   ]
  },
  {
   "cell_type": "markdown",
   "metadata": {},
   "source": [
    "###  ---------------- RESULTS -------------"
   ]
  },
  {
   "cell_type": "code",
   "execution_count": 7,
   "metadata": {
    "collapsed": false
   },
   "outputs": [
    {
     "name": "stdout",
     "output_type": "stream",
     "text": [
      "DATA 1 size : (5822, 85)\n",
      "KRR:\n",
      "Scikit :  43.0317721367\n",
      "shogun : 3.37189102173\n",
      "------------------\n",
      "DATA 2 size : (28179, 96)\n",
      "SVR :\n",
      "Scikit :  141.753978014\n",
      "shogun : 136.193249941\n"
     ]
    }
   ],
   "source": [
    "print \"DATA 1 size :\" , d1\n",
    "print \"KRR:\"\n",
    "print \"Scikit : \" , ts1\n",
    "print \"shogun :\", tsg1\n",
    "print \"------------------\"\n",
    "print \"DATA 2 size :\" , d2\n",
    "print \"SVR :\"\n",
    "print \"Scikit : \" , ts2\n",
    "print \"shogun :\", tsg2"
   ]
  }
 ],
 "metadata": {
  "kernelspec": {
   "display_name": "Python 2",
   "language": "python",
   "name": "python2"
  },
  "language_info": {
   "codemirror_mode": {
    "name": "ipython",
    "version": 2
   },
   "file_extension": ".py",
   "mimetype": "text/x-python",
   "name": "python",
   "nbconvert_exporter": "python",
   "pygments_lexer": "ipython2",
   "version": "2.7.6"
  }
 },
 "nbformat": 4,
 "nbformat_minor": 0
}
