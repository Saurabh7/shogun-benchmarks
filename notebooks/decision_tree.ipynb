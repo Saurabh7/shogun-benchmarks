{
 "cells": [
  {
   "cell_type": "markdown",
   "metadata": {},
   "source": [
    "## Decision tree "
   ]
  },
  {
   "cell_type": "code",
   "execution_count": 1,
   "metadata": {
    "collapsed": false
   },
   "outputs": [
    {
     "name": "stdout",
     "output_type": "stream",
     "text": [
      "(1728,)\n"
     ]
    }
   ],
   "source": [
    "from modshogun import *\n",
    "from numpy import *\n",
    "from time import time\n",
    "\n",
    "# DATA SET 1\n",
    "\n",
    "# class attribute\n",
    "evaluation = {'unacc' : 1.0, 'acc' : 2.0, 'good' : 3.0, 'vgood' : 4.0}\n",
    "\n",
    "# non-class attributes\n",
    "buying = {'vhigh' : 1.0, 'high' : 2.0, 'med' : 3.0, 'low' : 4.0}\n",
    "maint = {'vhigh' : 1.0, 'high' : 2.0, 'med' : 3.0, 'low' : 4.0}\n",
    "doors = {'2' : 1.0, '3' : 2.0, '4' : 3.0, '5more' : 4.0}\n",
    "persons = {'2' : 1.0, '4' : 2.0, 'more' : 3.0}\n",
    "lug_boot = {'small' : 1.0, 'med' : 2.0, 'big' : 3.0}\n",
    "safety = {'low' : 1.0, 'med' : 2.0, 'high' : 3.0}\n",
    "f = open('car.csv', 'r')\n",
    "\n",
    "features = []\n",
    "labels = []\n",
    "\n",
    "# read data from file and encode\n",
    "for line in f:\n",
    "    words = line.rstrip().split(',')\n",
    "    words[0] = buying[words[0]]\n",
    "    words[1] = maint[words[1]]\n",
    "    words[2] = doors[words[2]]\n",
    "    words[3] = persons[words[3]]\n",
    "    words[4] = lug_boot[words[4]]\n",
    "    words[5] = safety[words[5]]\n",
    "    words[6] = evaluation[words[6]]\n",
    "    features.append(words[0:6])\n",
    "    labels.append(words[6])\n",
    "\n",
    "f.close()\n",
    "\n",
    "features = array(features)\n",
    "labels = array(labels)\n",
    "print labels.shape\n",
    "\n",
    "# number of test vectors\n",
    "num_test_vectors = 200;\n",
    "\n",
    "test_indices = random.randint(features.shape[0], size = num_test_vectors)\n",
    "test_features = features[test_indices]\n",
    "test_labels = labels[test_indices]\n",
    "\n",
    "# remove test vectors from training set\n",
    "features = delete(features,test_indices,0)\n",
    "labels = delete(labels,test_indices,0)\n",
    "                                                                                                                                                                                                                                                \n",
    "\n",
    "# shogun test features and labels\n",
    "test_feats = RealFeatures(test_features.T)\n",
    "test_labels = MulticlassLabels(test_labels)\n",
    "\n",
    "# method for id3 training and\n",
    "def ID3_routine(features, labels):\n",
    "\n",
    "    # Shogun train features and labels\n",
    "    train_feats = RealFeatures(features.T)\n",
    "    train_lab = MulticlassLabels(labels)\n",
    "\n",
    "    # create ID3ClassifierTree object\n",
    "    id3 = ID3ClassifierTree()\n",
    "\n",
    "    # set labels\n",
    "    id3.set_labels(train_lab)\n",
    "\n",
    "    # learn the tree from training features\n",
    "    id3.train(train_feats)\n",
    "\n",
    "    # apply to test dataset\n",
    "    output = id3.apply_multiclass(test_feats)\n",
    "    \n",
    "    return output\n",
    "\n",
    "t0 = time()\n",
    "output = ID3_routine(features, labels)\n",
    "tid3 = time()-t0\n",
    "\n",
    "\n",
    "\n",
    "def train_carttree(feat_types,problem_type,labels,features, test):#, num_folds,use_cv_pruning):\n",
    "    # create CART tree object\n",
    "    c = CARTree(feat_types,problem_type)#,num_folds,use_cv_pruning)\n",
    "    # set training labels\n",
    "    c.set_labels(labels)\n",
    "    # train using training features\n",
    "    c.train(features)\n",
    "    \n",
    "    output_labels = c.apply_multiclass(test)\n",
    "    return output_labels\n",
    "    \n",
    "# form feature types True for nominal (attribute X), False for ordinal/continuous (attribute Y)\n",
    "ft = array([True, True, True, True, True, True])\n",
    "\n",
    "\n",
    "train_feats = RealFeatures(features.T)\n",
    "train_lab = MulticlassLabels(labels)\n",
    "\n",
    "t0=time()\n",
    "out = train_carttree(ft, PT_MULTICLASS, train_lab, train_feats, test_feats)#,  5, True)\n",
    "tcr= time()-t0\n",
    "\n"
   ]
  },
  {
   "cell_type": "markdown",
   "metadata": {},
   "source": [
    "### Output 1"
   ]
  },
  {
   "cell_type": "code",
   "execution_count": 2,
   "metadata": {
    "collapsed": false
   },
   "outputs": [
    {
     "name": "stdout",
     "output_type": "stream",
     "text": [
      "-------------------------------------\n",
      "SHAPE OF DATA (1534, 6)\n",
      "Shogun id3: 3.8908829689\n",
      "scikit :0.00135207176208\n",
      "Shogun cart: 0.00786089897156\n",
      "-------------------------------------\n"
     ]
    }
   ],
   "source": [
    "from sklearn import *\n",
    "\n",
    "t1=time()\n",
    "clf = tree.DecisionTreeClassifier()\n",
    "clf = clf.fit(features, labels)\n",
    "clf.predict(test_features)\n",
    "t = time() -t1\n",
    " \n",
    "print \"-------------------------------------\"\n",
    "print \"SHAPE OF DATA\" , features.shape\n",
    "print \"Shogun id3: \" + str(tid3) \n",
    "print \"scikit :\" + str(t)\n",
    "print \"Shogun cart: \" + str(tcr)\n",
    "print \"-------------------------------------\"\n"
   ]
  },
  {
   "cell_type": "markdown",
   "metadata": {},
   "source": [
    "### Data set 2 (7797, 618)"
   ]
  },
  {
   "cell_type": "code",
   "execution_count": 3,
   "metadata": {
    "collapsed": false
   },
   "outputs": [
    {
     "data": {
      "text/plain": [
       "(7797,)"
      ]
     },
     "execution_count": 3,
     "metadata": {},
     "output_type": "execute_result"
    }
   ],
   "source": [
    "# DATA SET 2\n",
    "\n",
    "\n",
    "csv = genfromtxt('isolet.csv', delimiter=\",\")\n",
    "#labels=genfromtxt('madelon_y.csv', delimiter=\",\")\n",
    "\n",
    "csv.shape\n",
    "\n",
    "labels = csv[:, [-1]]\n",
    "labels = array(labels.ravel())\n",
    "labels.shape"
   ]
  },
  {
   "cell_type": "code",
   "execution_count": 4,
   "metadata": {
    "collapsed": false
   },
   "outputs": [
    {
     "name": "stdout",
     "output_type": "stream",
     "text": [
      "(7797, 618)\n"
     ]
    }
   ],
   "source": [
    "#csv = delete(arr, -1, -1)\n",
    "size=csv.shape\n",
    "print size\n",
    "\n",
    "ft=[True]*size[1]\n",
    "ft=array(ft)\n",
    "# number of test vectors\n",
    "num_test_vectors = 200;\n",
    "\n",
    "test_indices = random.randint(features.shape[0], size = num_test_vectors)\n",
    "test_features = csv[test_indices]\n",
    "test_labels = labels[test_indices]\n",
    "test_labels = array(test_labels.ravel())\n",
    "\n",
    "\n",
    "# remove test vectors from training set\n",
    "csv = delete(csv,test_indices,0)\n",
    "labels = delete(labels,test_indices,0)"
   ]
  },
  {
   "cell_type": "markdown",
   "metadata": {},
   "source": [
    "### Output 2"
   ]
  },
  {
   "cell_type": "code",
   "execution_count": 5,
   "metadata": {
    "collapsed": false
   },
   "outputs": [
    {
     "name": "stdout",
     "output_type": "stream",
     "text": [
      "-------------------\n",
      "SHAPE OF DATA: (7612, 618)\n",
      "scikit :3.34869813919\n"
     ]
    }
   ],
   "source": [
    "t1=time()\n",
    "clf = tree.DecisionTreeClassifier()\n",
    "clf = clf.fit(csv, labels)\n",
    "clf.predict(test_features)\n",
    "tsk = time() -t1\n",
    " \n",
    "print \"-------------------\"\n",
    "print \"SHAPE OF DATA:\" , csv.shape\n",
    "print \"scikit :\" + str(tsk)\n"
   ]
  },
  {
   "cell_type": "code",
   "execution_count": 6,
   "metadata": {
    "collapsed": false
   },
   "outputs": [
    {
     "name": "stdout",
     "output_type": "stream",
     "text": [
      "Shogun cart: 1979.01528001\n"
     ]
    }
   ],
   "source": [
    "train_feats = RealFeatures(csv.T)\n",
    "train_lab = MulticlassLabels(labels)\n",
    "# shogun test features and labels\n",
    "test_feats = RealFeatures(test_features.T)\n",
    "test_labels = MulticlassLabels(test_labels)\n",
    "\n",
    "\n",
    "t0=time()\n",
    "out = train_carttree(ft, PT_MULTICLASS, train_lab, train_feats, test_feats)#,  5, True)\n",
    "t= time()-t0\n",
    "\n",
    "print \"Shogun cart: \" + str(t)  "
   ]
  }
 ],
 "metadata": {
  "kernelspec": {
   "display_name": "Python 2",
   "language": "python",
   "name": "python2"
  },
  "language_info": {
   "codemirror_mode": {
    "name": "ipython",
    "version": 2
   },
   "file_extension": ".py",
   "mimetype": "text/x-python",
   "name": "python",
   "nbconvert_exporter": "python",
   "pygments_lexer": "ipython2",
   "version": "2.7.6"
  }
 },
 "nbformat": 4,
 "nbformat_minor": 0
}
