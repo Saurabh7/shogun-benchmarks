{
 "cells": [
  {
   "cell_type": "markdown",
   "metadata": {},
   "source": [
    "### Hierarchical clustering"
   ]
  },
  {
   "cell_type": "code",
   "execution_count": 1,
   "metadata": {
    "collapsed": true
   },
   "outputs": [],
   "source": [
    "from time import time\n",
    "import numpy as np\n",
    "from modshogun import *\n",
    "\n",
    "k = 10"
   ]
  },
  {
   "cell_type": "code",
   "execution_count": 2,
   "metadata": {
    "collapsed": false
   },
   "outputs": [
    {
     "name": "stdout",
     "output_type": "stream",
     "text": [
      "SIZE OF DATA  (5820, 33)\n",
      "------------------- \n",
      "\n",
      "Shogun : \n",
      "3.01415801048\n"
     ]
    }
   ],
   "source": [
    "csv = np.genfromtxt('student.csv', delimiter=\",\")\n",
    "print \"SIZE OF DATA \", csv.shape\n",
    "t=0\n",
    "for i in range(0,1):\n",
    "    train_features = RealFeatures(csv.T)\n",
    "    distance = EuclideanDistance(train_features, train_features)\n",
    "    t0 = time()\n",
    "\n",
    "    hc = Hierarchical(k, distance)\n",
    "    hc.train()\n",
    "\n",
    "    t += time()-t0\n",
    "\n",
    "print \"------------------- \\n\"\n",
    "print \"Shogun : \"\n",
    "print np.true_divide(t, 1);"
   ]
  },
  {
   "cell_type": "code",
   "execution_count": 3,
   "metadata": {
    "collapsed": false
   },
   "outputs": [
    {
     "name": "stdout",
     "output_type": "stream",
     "text": [
      "------------------- \n",
      "\n",
      "Scikit: \n",
      "1.0845348835\n"
     ]
    }
   ],
   "source": [
    "from sklearn.cluster import AgglomerativeClustering\n",
    "from sklearn.neighbors import kneighbors_graph\n",
    "\n",
    "\n",
    "x = 10\n",
    "knn_graph = kneighbors_graph(csv,x , include_self=False)\n",
    "t=0\n",
    "for i in range(0,1):\n",
    "    t0 = time()\n",
    "    km = AgglomerativeClustering( n_clusters=k, connectivity=knn_graph)\n",
    "    km.fit(csv)\n",
    "    t += time()-t0\n",
    "print \"------------------- \\n\"\n",
    "print \"Scikit: \"\n",
    "print np.true_divide(t, 1);"
   ]
  },
  {
   "cell_type": "code",
   "execution_count": 4,
   "metadata": {
    "collapsed": false
   },
   "outputs": [
    {
     "name": "stdout",
     "output_type": "stream",
     "text": [
      "SIZE OF DATA  (19075, 69)\n"
     ]
    }
   ],
   "source": [
    "csv = np.genfromtxt('census_50k.csv', delimiter=\",\")\n",
    "print \"SIZE OF DATA \", csv.shape"
   ]
  },
  {
   "cell_type": "code",
   "execution_count": 1,
   "metadata": {
    "collapsed": false
   },
   "outputs": [
    {
     "name": "stdout",
     "output_type": "stream",
     "text": [
      "here\n",
      "\n",
      "\n",
      "------------------- \n",
      "\n",
      "555.91812706\n"
     ]
    }
   ],
   "source": [
    "t=0\n",
    "for i in range(0,1):\n",
    "    train_features = RealFeatures(csv.T)\n",
    "    distance = EuclideanDistance(train_features, train_features)\n",
    "    t0 = time()\n",
    "\n",
    "    hc = Hierarchical(k, distance)\n",
    "    hc.train()\n",
    "\n",
    "    t += time()-t0\n",
    "\n",
    "print '\\n'\t\n",
    "print \"------------------- \\n\"\t\n",
    "print np.true_divide(t, 1);"
   ]
  },
  {
   "cell_type": "code",
   "execution_count": 6,
   "metadata": {
    "collapsed": false
   },
   "outputs": [
    {
     "name": "stdout",
     "output_type": "stream",
     "text": [
      "------------------- \n",
      "\n",
      "scikit with connectivity matrix:\n",
      "5.97757482529\n"
     ]
    }
   ],
   "source": [
    "from sklearn.cluster import AgglomerativeClustering\n",
    "from sklearn.neighbors import kneighbors_graph\n",
    "\n",
    "\n",
    "x = 30\n",
    "knn_graph = kneighbors_graph(csv,x , include_self=False)\n",
    "t=0\n",
    "for i in range(0,1):\n",
    "    t0 = time()\n",
    "    km = AgglomerativeClustering( n_clusters=k, connectivity=knn_graph)\n",
    "    km.fit(csv)\n",
    "    t += time()-t0\n",
    "print \"------------------- \\n\"\n",
    "print \"scikit with connectivity matrix:\"\n",
    "print np.true_divide(t, 1);\n"
   ]
  },
  {
   "cell_type": "code",
   "execution_count": null,
   "metadata": {
    "collapsed": true
   },
   "outputs": [],
   "source": []
  }
 ],
 "metadata": {
  "kernelspec": {
   "display_name": "Python 2",
   "language": "python",
   "name": "python2"
  },
  "language_info": {
   "codemirror_mode": {
    "name": "ipython",
    "version": 2
   },
   "file_extension": ".py",
   "mimetype": "text/x-python",
   "name": "python",
   "nbconvert_exporter": "python",
   "pygments_lexer": "ipython2",
   "version": "2.7.6"
  }
 },
 "nbformat": 4,
 "nbformat_minor": 0
}
